{
 "cells": [
  {
   "cell_type": "code",
   "execution_count": 1,
   "id": "7416c19b",
   "metadata": {},
   "outputs": [
    {
     "name": "stderr",
     "output_type": "stream",
     "text": [
      "2023-02-03 19:01:14.703611: I tensorflow/core/platform/cpu_feature_guard.cc:193] This TensorFlow binary is optimized with oneAPI Deep Neural Network Library (oneDNN) to use the following CPU instructions in performance-critical operations:  AVX2 FMA\n",
      "To enable them in other operations, rebuild TensorFlow with the appropriate compiler flags.\n",
      "2023-02-03 19:01:14.868704: W tensorflow/compiler/xla/stream_executor/platform/default/dso_loader.cc:64] Could not load dynamic library 'libcudart.so.11.0'; dlerror: libcudart.so.11.0: cannot open shared object file: No such file or directory\n",
      "2023-02-03 19:01:14.868729: I tensorflow/compiler/xla/stream_executor/cuda/cudart_stub.cc:29] Ignore above cudart dlerror if you do not have a GPU set up on your machine.\n",
      "2023-02-03 19:01:15.868157: W tensorflow/compiler/xla/stream_executor/platform/default/dso_loader.cc:64] Could not load dynamic library 'libnvinfer.so.7'; dlerror: libnvinfer.so.7: cannot open shared object file: No such file or directory\n",
      "2023-02-03 19:01:15.868273: W tensorflow/compiler/xla/stream_executor/platform/default/dso_loader.cc:64] Could not load dynamic library 'libnvinfer_plugin.so.7'; dlerror: libnvinfer_plugin.so.7: cannot open shared object file: No such file or directory\n",
      "2023-02-03 19:01:15.868290: W tensorflow/compiler/tf2tensorrt/utils/py_utils.cc:38] TF-TRT Warning: Cannot dlopen some TensorRT libraries. If you would like to use Nvidia GPU with TensorRT, please make sure the missing libraries mentioned above are installed properly.\n"
     ]
    },
    {
     "name": "stdout",
     "output_type": "stream",
     "text": [
      "2.11.0\n"
     ]
    }
   ],
   "source": [
    "import tensorflow as tf\n",
    "from tensorflow import keras\n",
    "\n",
    "import numpy as np\n",
    "import matplotlib.pyplot as plt\n",
    "\n",
    "print(tf.__version__)"
   ]
  },
  {
   "cell_type": "code",
   "execution_count": 2,
   "id": "759ed05b",
   "metadata": {},
   "outputs": [],
   "source": [
    "imdb = keras.datasets.imdb\n",
    "\n",
    "(train_data, train_labels), (test_data, test_labels) = imdb.load_data(num_words=10000)"
   ]
  },
  {
   "cell_type": "markdown",
   "id": "2dfae9e4",
   "metadata": {},
   "source": [
    "## Explore os dados\n",
    "> Vamos parar um momento para entender o formato dos dados. O conjunto de dados vem pré-processado: cada exemplo é um array de inteiros representando as palavras da avaliação do filme. Cada label é um inteiro com valor ou de 0 ou 1, onde 0 é uma avaliação negativa e 1 é uma avaliação positiva."
   ]
  },
  {
   "cell_type": "code",
   "execution_count": 3,
   "id": "f35249b6",
   "metadata": {},
   "outputs": [
    {
     "name": "stdout",
     "output_type": "stream",
     "text": [
      "Training entries: 25000, labels: 25000\n"
     ]
    }
   ],
   "source": [
    "print(\"Training entries: {}, labels: {}\".format(len(train_data), len(train_labels)))"
   ]
  },
  {
   "cell_type": "code",
   "execution_count": 4,
   "id": "ad981765",
   "metadata": {},
   "outputs": [],
   "source": [
    "# Um dicionário mapeando palavras em índices inteiros\n",
    "word_index = imdb.get_word_index()\n",
    "\n",
    "# Os primeiros índices são reservados\n",
    "word_index = {k:(v+3) for k,v in word_index.items()}\n",
    "word_index[\"<PAD>\"] = 0\n",
    "word_index[\"<START>\"] = 1\n",
    "word_index[\"<UNK>\"] = 2  # unknown\n",
    "word_index[\"<UNUSED>\"] = 3\n",
    "\n",
    "reverse_word_index = dict([(value, key) for (key, value) in word_index.items()])\n",
    "\n",
    "def decode_review(text):\n",
    "    return ' '.join([reverse_word_index.get(i, '?') for i in text])"
   ]
  },
  {
   "cell_type": "code",
   "execution_count": 5,
   "id": "9b4c0efa",
   "metadata": {},
   "outputs": [
    {
     "data": {
      "text/plain": [
       "\"<START> this film was just brilliant casting location scenery story direction everyone's really suited the part they played and you could just imagine being there robert <UNK> is an amazing actor and now the same being director <UNK> father came from the same scottish island as myself so i loved the fact there was a real connection with this film the witty remarks throughout the film were great it was just brilliant so much that i bought the film as soon as it was released for <UNK> and would recommend it to everyone to watch and the fly fishing was amazing really cried at the end it was so sad and you know what they say if you cry at a film it must have been good and this definitely was also <UNK> to the two little boy's that played the <UNK> of norman and paul they were just brilliant children are often left out of the <UNK> list i think because the stars that play them all grown up are such a big profile for the whole film but these children are amazing and should be praised for what they have done don't you think the whole story was so lovely because it was true and was someone's life after all that was shared with us all\""
      ]
     },
     "execution_count": 5,
     "metadata": {},
     "output_type": "execute_result"
    }
   ],
   "source": [
    "decode_review(train_data[0])"
   ]
  },
  {
   "cell_type": "markdown",
   "id": "99498b51",
   "metadata": {},
   "source": [
    "## Prepare os dados\n",
    "As avaliações —os arrays de inteiros— devem ser convertidas em tensores (tensors) antes de alimentar a rede neural. Essa conversão pode ser feita de duas formas:\n",
    "\n",
    "- Converter os arrays em vetores de 0s e 1s indicando a ocorrência da palavra, similar com one-hot encoding. Por exemplo, a sequência [3, 5] se tornaria um vetor de 10000 dimensões, onde todos seriam 0s, tirando 3 e 5, que são 1s. Depois, faça disso a primeira camada da nossa rede neural — a Dense layer — que pode trabalhar com dados em ponto flutuante. Essa abordagem é intensa em relação a memória, logo requer uma matriz de tamanho num_words * num_reviews.\n",
    "\n",
    "- Alternativamente, podemos preencher o array para que todos tenho o mesmo comprimento, e depois criar um tensor inteiro de formato max_length * num_reviews. Podemos usar uma camada embedding capaz de lidar com o formato como a primeira camada da nossa rede.\n",
    "\n",
    "Nesse tutorial, usaremos a segunda abordagem.\n",
    "\n",
    "Já que as avaliações dos filmes devem ter o mesmo tamanho, usaremos a função pad_sequences para padronizar os tamanhos:"
   ]
  },
  {
   "cell_type": "code",
   "execution_count": 6,
   "id": "490c8c87",
   "metadata": {},
   "outputs": [],
   "source": [
    "train_data = keras.preprocessing.sequence.pad_sequences(train_data,\n",
    "                                                        value=word_index[\"<PAD>\"],\n",
    "                                                        padding='post',\n",
    "                                                        maxlen=256)\n",
    "\n",
    "test_data = keras.preprocessing.sequence.pad_sequences(test_data,\n",
    "                                                       value=word_index[\"<PAD>\"],\n",
    "                                                       padding='post',\n",
    "                                                       maxlen=256)"
   ]
  },
  {
   "cell_type": "code",
   "execution_count": 7,
   "id": "016e5bdc",
   "metadata": {},
   "outputs": [
    {
     "name": "stdout",
     "output_type": "stream",
     "text": [
      "Model: \"sequential\"\n",
      "_________________________________________________________________\n",
      " Layer (type)                Output Shape              Param #   \n",
      "=================================================================\n",
      " embedding (Embedding)       (None, None, 16)          160000    \n",
      "                                                                 \n",
      " global_average_pooling1d (G  (None, 16)               0         \n",
      " lobalAveragePooling1D)                                          \n",
      "                                                                 \n",
      " dense (Dense)               (None, 16)                272       \n",
      "                                                                 \n",
      " dense_1 (Dense)             (None, 1)                 17        \n",
      "                                                                 \n",
      "=================================================================\n",
      "Total params: 160,289\n",
      "Trainable params: 160,289\n",
      "Non-trainable params: 0\n",
      "_________________________________________________________________\n"
     ]
    },
    {
     "name": "stderr",
     "output_type": "stream",
     "text": [
      "2023-02-03 19:01:23.541271: W tensorflow/compiler/xla/stream_executor/platform/default/dso_loader.cc:64] Could not load dynamic library 'libcuda.so.1'; dlerror: libcuda.so.1: cannot open shared object file: No such file or directory\n",
      "2023-02-03 19:01:23.541331: W tensorflow/compiler/xla/stream_executor/cuda/cuda_driver.cc:265] failed call to cuInit: UNKNOWN ERROR (303)\n",
      "2023-02-03 19:01:23.541369: I tensorflow/compiler/xla/stream_executor/cuda/cuda_diagnostics.cc:163] no NVIDIA GPU device is present: /dev/nvidia0 does not exist\n",
      "2023-02-03 19:01:23.541609: I tensorflow/core/platform/cpu_feature_guard.cc:193] This TensorFlow binary is optimized with oneAPI Deep Neural Network Library (oneDNN) to use the following CPU instructions in performance-critical operations:  AVX2 FMA\n",
      "To enable them in other operations, rebuild TensorFlow with the appropriate compiler flags.\n"
     ]
    }
   ],
   "source": [
    "# O formato de entrada é a contagem vocabulário usados pelas avaliações dos filmes (10000 palavras)\n",
    "vocab_size = 10000\n",
    "\n",
    "model = keras.Sequential()\n",
    "model.add(keras.layers.Embedding(vocab_size, 16))\n",
    "model.add(keras.layers.GlobalAveragePooling1D())\n",
    "model.add(keras.layers.Dense(16, activation='relu'))\n",
    "model.add(keras.layers.Dense(1, activation='sigmoid'))\n",
    "\n",
    "model.summary()"
   ]
  },
  {
   "cell_type": "markdown",
   "id": "8fd32828",
   "metadata": {},
   "source": [
    "As camadas são empilhadas sequencialmente para construir o classificador:\n",
    "\n",
    "1. A primeira camada é uma camada Embedding (Embedding layer). Essa camada pega o vocabulário em inteiros e olha o vetor embedding em cada palavra-index. Esses vetores são aprendidos pelo modelo, ao longo do treinamento. Os vetores adicionam a dimensão ao array de saída. As dimensões resultantes são: (batch, sequence, embedding).\n",
    "2. Depois, uma camada GlobalAveragePooling1D retorna um vetor de saída com comprimento fixo para cada exemplo fazendo a média da sequência da dimensão. Isso permite o modelo de lidar com entradas de tamanhos diferentes da maneira mais simples possível.\n",
    "3. Esse vetor de saída com tamanho fixo passa por uma camada fully-connected (Dense) layer com 16 hidden units.\n",
    "4. A última camada é uma densely connected com um único nó de saída. Usando uma função de ativação sigmoid, esse valor é um float que varia entre 0 e 1, representando a probabilidade, ou nível de confiança.\n",
    "\n",
    "## Hidden units\n",
    "O modelo abaixo tem duas camadas intermediárias ou \"hidden\" (hidden layers), entre a entrada e saída. O número de saídas (unidades— units—, nós ou neurônios) é a dimensão do espaço representacional para a camada. Em outras palavras, a quantidade de liberdade que a rede é permitida enquanto aprende uma representação interna.\n",
    "\n",
    "Se o modelo tem mais hidden units (um espaço representacional de maior dimensão), e/ou mais camadas, então a rede pode aprender representações mais complexas. Entretanto, isso faz com que a rede seja computacionalmente mais custosa e pode levar ao aprendizado de padrões não desejados— padrões que melhoram a performance com os dados de treinamento, mas não com os de teste. Isso se chama overfitting, e exploraremos mais tarde.\n",
    "\n",
    "## Função Loss e otimizadores (optimizer)\n",
    "O modelo precisa de uma função loss e um otimizador (optimizer) para treinamento. Já que é um problema de classificação binário e o modelo tem como saída uma probabilidade (uma única camada com ativação sigmoide), usaremos a função loss binary_crossentropy.\n",
    "\n",
    "Essa não é a única escolha de função loss, você poderia escolher, no lugar, a mean_squared_error. Mas, geralmente, binary_crossentropy é melhor para tratar probabilidades— ela mede a \"distância\" entre as distribuições de probabilidade, ou, no nosso caso, sobre a distribuição real e as previsões.\n",
    "\n",
    "Mais tarde, quando explorarmos problemas de regressão (como, predizer preço de uma casa), veremos como usar outra função loss chamada mean squared error.\n",
    "\n",
    "Agora, configure o modelo para usar o optimizer a função loss:"
   ]
  },
  {
   "cell_type": "code",
   "execution_count": 8,
   "id": "1042912a",
   "metadata": {},
   "outputs": [],
   "source": [
    "model.compile(optimizer='adam',\n",
    "              loss='binary_crossentropy',\n",
    "              metrics=['accuracy'])"
   ]
  },
  {
   "cell_type": "code",
   "execution_count": 9,
   "id": "4b8644ea",
   "metadata": {},
   "outputs": [],
   "source": [
    "x_val = train_data[:10000]\n",
    "partial_x_train = train_data[10000:]\n",
    "\n",
    "y_val = train_labels[:10000]\n",
    "partial_y_train = train_labels[10000:]"
   ]
  },
  {
   "cell_type": "code",
   "execution_count": 10,
   "id": "a79d688b",
   "metadata": {},
   "outputs": [
    {
     "name": "stdout",
     "output_type": "stream",
     "text": [
      "Epoch 1/40\n",
      "30/30 [==============================] - 2s 38ms/step - loss: 0.6917 - accuracy: 0.5723 - val_loss: 0.6897 - val_accuracy: 0.5953\n",
      "Epoch 2/40\n",
      "30/30 [==============================] - 1s 29ms/step - loss: 0.6855 - accuracy: 0.7002 - val_loss: 0.6811 - val_accuracy: 0.6642\n",
      "Epoch 3/40\n",
      "30/30 [==============================] - 1s 25ms/step - loss: 0.6706 - accuracy: 0.7411 - val_loss: 0.6609 - val_accuracy: 0.7480\n",
      "Epoch 4/40\n",
      "30/30 [==============================] - 1s 26ms/step - loss: 0.6430 - accuracy: 0.7749 - val_loss: 0.6302 - val_accuracy: 0.7677\n",
      "Epoch 5/40\n",
      "30/30 [==============================] - 1s 29ms/step - loss: 0.6044 - accuracy: 0.7945 - val_loss: 0.5913 - val_accuracy: 0.7884\n",
      "Epoch 6/40\n",
      "30/30 [==============================] - 1s 24ms/step - loss: 0.5581 - accuracy: 0.8159 - val_loss: 0.5470 - val_accuracy: 0.8034\n",
      "Epoch 7/40\n",
      "30/30 [==============================] - 1s 29ms/step - loss: 0.5091 - accuracy: 0.8328 - val_loss: 0.5028 - val_accuracy: 0.8210\n",
      "Epoch 8/40\n",
      "30/30 [==============================] - 1s 24ms/step - loss: 0.4616 - accuracy: 0.8527 - val_loss: 0.4651 - val_accuracy: 0.8340\n",
      "Epoch 9/40\n",
      "30/30 [==============================] - 1s 26ms/step - loss: 0.4193 - accuracy: 0.8647 - val_loss: 0.4274 - val_accuracy: 0.8458\n",
      "Epoch 10/40\n",
      "30/30 [==============================] - 1s 24ms/step - loss: 0.3824 - accuracy: 0.8769 - val_loss: 0.3995 - val_accuracy: 0.8531\n",
      "Epoch 11/40\n",
      "30/30 [==============================] - 1s 26ms/step - loss: 0.3514 - accuracy: 0.8851 - val_loss: 0.3765 - val_accuracy: 0.8599\n",
      "Epoch 12/40\n",
      "30/30 [==============================] - 1s 24ms/step - loss: 0.3255 - accuracy: 0.8919 - val_loss: 0.3578 - val_accuracy: 0.8663\n",
      "Epoch 13/40\n",
      "30/30 [==============================] - 1s 27ms/step - loss: 0.3033 - accuracy: 0.8981 - val_loss: 0.3431 - val_accuracy: 0.8697\n",
      "Epoch 14/40\n",
      "30/30 [==============================] - 1s 28ms/step - loss: 0.2845 - accuracy: 0.9025 - val_loss: 0.3312 - val_accuracy: 0.8732\n",
      "Epoch 15/40\n",
      "30/30 [==============================] - 1s 24ms/step - loss: 0.2677 - accuracy: 0.9080 - val_loss: 0.3212 - val_accuracy: 0.8757\n",
      "Epoch 16/40\n",
      "30/30 [==============================] - 1s 24ms/step - loss: 0.2527 - accuracy: 0.9137 - val_loss: 0.3133 - val_accuracy: 0.8782\n",
      "Epoch 17/40\n",
      "30/30 [==============================] - 1s 27ms/step - loss: 0.2396 - accuracy: 0.9181 - val_loss: 0.3065 - val_accuracy: 0.8795\n",
      "Epoch 18/40\n",
      "30/30 [==============================] - 1s 30ms/step - loss: 0.2276 - accuracy: 0.9223 - val_loss: 0.3018 - val_accuracy: 0.8812\n",
      "Epoch 19/40\n",
      "30/30 [==============================] - 1s 28ms/step - loss: 0.2164 - accuracy: 0.9252 - val_loss: 0.2972 - val_accuracy: 0.8814\n",
      "Epoch 20/40\n",
      "30/30 [==============================] - 1s 25ms/step - loss: 0.2063 - accuracy: 0.9295 - val_loss: 0.2933 - val_accuracy: 0.8831\n",
      "Epoch 21/40\n",
      "30/30 [==============================] - 1s 25ms/step - loss: 0.1965 - accuracy: 0.9336 - val_loss: 0.2915 - val_accuracy: 0.8829\n",
      "Epoch 22/40\n",
      "30/30 [==============================] - 1s 30ms/step - loss: 0.1877 - accuracy: 0.9369 - val_loss: 0.2883 - val_accuracy: 0.8841\n",
      "Epoch 23/40\n",
      "30/30 [==============================] - 1s 31ms/step - loss: 0.1795 - accuracy: 0.9419 - val_loss: 0.2876 - val_accuracy: 0.8838\n",
      "Epoch 24/40\n",
      "30/30 [==============================] - 1s 33ms/step - loss: 0.1721 - accuracy: 0.9439 - val_loss: 0.2857 - val_accuracy: 0.8854\n",
      "Epoch 25/40\n",
      "30/30 [==============================] - 1s 27ms/step - loss: 0.1644 - accuracy: 0.9483 - val_loss: 0.2850 - val_accuracy: 0.8854\n",
      "Epoch 26/40\n",
      "30/30 [==============================] - 1s 34ms/step - loss: 0.1579 - accuracy: 0.9509 - val_loss: 0.2851 - val_accuracy: 0.8862\n",
      "Epoch 27/40\n",
      "30/30 [==============================] - 1s 26ms/step - loss: 0.1510 - accuracy: 0.9532 - val_loss: 0.2877 - val_accuracy: 0.8849\n",
      "Epoch 28/40\n",
      "30/30 [==============================] - 1s 27ms/step - loss: 0.1453 - accuracy: 0.9569 - val_loss: 0.2859 - val_accuracy: 0.8867\n",
      "Epoch 29/40\n",
      "30/30 [==============================] - 1s 30ms/step - loss: 0.1391 - accuracy: 0.9591 - val_loss: 0.2866 - val_accuracy: 0.8869\n",
      "Epoch 30/40\n",
      "30/30 [==============================] - 1s 33ms/step - loss: 0.1336 - accuracy: 0.9609 - val_loss: 0.2888 - val_accuracy: 0.8855\n",
      "Epoch 31/40\n",
      "30/30 [==============================] - 1s 30ms/step - loss: 0.1285 - accuracy: 0.9631 - val_loss: 0.2893 - val_accuracy: 0.8859\n",
      "Epoch 32/40\n",
      "30/30 [==============================] - 1s 26ms/step - loss: 0.1232 - accuracy: 0.9648 - val_loss: 0.2917 - val_accuracy: 0.8850\n",
      "Epoch 33/40\n",
      "30/30 [==============================] - 1s 26ms/step - loss: 0.1186 - accuracy: 0.9669 - val_loss: 0.2932 - val_accuracy: 0.8857\n",
      "Epoch 34/40\n",
      "30/30 [==============================] - 1s 27ms/step - loss: 0.1137 - accuracy: 0.9689 - val_loss: 0.2965 - val_accuracy: 0.8832\n",
      "Epoch 35/40\n",
      "30/30 [==============================] - 1s 25ms/step - loss: 0.1095 - accuracy: 0.9690 - val_loss: 0.2976 - val_accuracy: 0.8853\n",
      "Epoch 36/40\n",
      "30/30 [==============================] - 1s 27ms/step - loss: 0.1051 - accuracy: 0.9715 - val_loss: 0.3004 - val_accuracy: 0.8838\n",
      "Epoch 37/40\n",
      "30/30 [==============================] - 1s 34ms/step - loss: 0.1011 - accuracy: 0.9730 - val_loss: 0.3035 - val_accuracy: 0.8835\n",
      "Epoch 38/40\n",
      "30/30 [==============================] - 1s 29ms/step - loss: 0.0971 - accuracy: 0.9742 - val_loss: 0.3068 - val_accuracy: 0.8843\n",
      "Epoch 39/40\n",
      "30/30 [==============================] - 1s 36ms/step - loss: 0.0933 - accuracy: 0.9759 - val_loss: 0.3100 - val_accuracy: 0.8827\n",
      "Epoch 40/40\n",
      "30/30 [==============================] - 1s 29ms/step - loss: 0.0901 - accuracy: 0.9766 - val_loss: 0.3146 - val_accuracy: 0.8801\n"
     ]
    }
   ],
   "source": [
    "history = model.fit(partial_x_train,\n",
    "                    partial_y_train,\n",
    "                    epochs=40,\n",
    "                    batch_size=512,\n",
    "                    validation_data=(x_val, y_val),\n",
    "                    verbose=1)"
   ]
  },
  {
   "cell_type": "code",
   "execution_count": 11,
   "id": "bc058b22",
   "metadata": {},
   "outputs": [
    {
     "name": "stdout",
     "output_type": "stream",
     "text": [
      "782/782 - 1s - loss: 0.3340 - accuracy: 0.8711 - 1s/epoch - 2ms/step\n",
      "[0.3340199291706085, 0.8711199760437012]\n"
     ]
    }
   ],
   "source": [
    "results = model.evaluate(test_data,  test_labels, verbose=2)\n",
    "\n",
    "print(results)"
   ]
  },
  {
   "cell_type": "code",
   "execution_count": 12,
   "id": "8f6b8992",
   "metadata": {},
   "outputs": [
    {
     "data": {
      "text/plain": [
       "dict_keys(['loss', 'accuracy', 'val_loss', 'val_accuracy'])"
      ]
     },
     "execution_count": 12,
     "metadata": {},
     "output_type": "execute_result"
    }
   ],
   "source": [
    "history_dict = history.history\n",
    "history_dict.keys()"
   ]
  },
  {
   "cell_type": "code",
   "execution_count": 13,
   "id": "f3858550",
   "metadata": {},
   "outputs": [
    {
     "data": {
      "image/png": "[encoded data removed]",
      "text/plain": [
       "<Figure size 640x480 with 1 Axes>"
      ]
     },
     "metadata": {},
     "output_type": "display_data"
    }
   ],
   "source": [
    "acc = history_dict['accuracy']\n",
    "val_acc = history_dict['val_accuracy']\n",
    "loss = history_dict['loss']\n",
    "val_loss = history_dict['val_loss']\n",
    "\n",
    "epochs = range(1, len(acc) + 1)\n",
    "\n",
    "# \"bo\" is for \"blue dot\"\n",
    "plt.plot(epochs, loss, 'bo', label='Training loss')\n",
    "# b is for \"solid blue line\"\n",
    "plt.plot(epochs, val_loss, 'b', label='Validation loss')\n",
    "plt.title('Training and validation loss')\n",
    "plt.xlabel('Epochs')\n",
    "plt.ylabel('Loss')\n",
    "plt.legend()\n",
    "\n",
    "plt.show()"
   ]
  },
  {
   "cell_type": "code",
   "execution_count": 14,
   "id": "9c186edc",
   "metadata": {},
   "outputs": [
    {
     "data": {
      "image/png": "[encoded data removed]",
      "text/plain": [
       "<Figure size 640x480 with 1 Axes>"
      ]
     },
     "metadata": {},
     "output_type": "display_data"
    }
   ],
   "source": [
    "plt.clf()   # clear figure\n",
    "\n",
    "plt.plot(epochs, acc, 'bo', label='Training acc')\n",
    "plt.plot(epochs, val_acc, 'b', label='Validation acc')\n",
    "plt.title('Training and validation accuracy')\n",
    "plt.xlabel('Epochs')\n",
    "plt.ylabel('Accuracy')\n",
    "plt.legend()\n",
    "\n",
    "plt.show()"
   ]
  },
  {
   "cell_type": "markdown",
   "id": "32d67b58",
   "metadata": {},
   "source": [
    "No gráfico, os pontos representam o loss e acurácia de treinamento, e as linhas são o loss e a acurácia de validação.\n",
    "\n",
    "> Note: que o loss de treinamento diminui a cada epoch e a acurácia aumenta. Isso é esperado quando usado um gradient descent optimization—ele deve minimizar a quantidade desejada a cada iteração.\n",
    "\n",
    "Esse não é o caso do loss e da acurácia de validação— eles parecem ter um pico depois de 20 epochs. Isso é um exemplo de overfitting: o modelo desempenha melhor nos dados de treinamento do que quando usado com dados nunca vistos. Depois desse ponto, o modelo otimiza além da conta e aprende uma representação especifica para os dados de treinamento e não generaliza para os dados de teste.\n",
    "\n",
    "Para esse caso particular, podemos prevenir o overfitting simplesmente parando o treinamento após mais ou menos 20 epochs. Depois, você verá como fazer isso automaticamente com um callback."
   ]
  },
  {
   "cell_type": "code",
   "execution_count": null,
   "id": "98761f98",
   "metadata": {},
   "outputs": [],
   "source": []
  }
 ],
 "metadata": {
  "kernelspec": {
   "display_name": "Python 3 (ipykernel)",
   "language": "python",
   "name": "python3"
  },
  "language_info": {
   "codemirror_mode": {
    "name": "ipython",
    "version": 3
   },
   "file_extension": ".py",
   "mimetype": "text/x-python",
   "name": "python",
   "nbconvert_exporter": "python",
   "pygments_lexer": "ipython3",
   "version": "3.10.9"
  }
 },
 "nbformat": 4,
 "nbformat_minor": 5
}
